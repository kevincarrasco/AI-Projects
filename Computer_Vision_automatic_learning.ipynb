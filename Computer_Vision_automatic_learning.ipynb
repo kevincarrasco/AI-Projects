{
  "nbformat": 4,
  "nbformat_minor": 0,
  "metadata": {
    "colab": {
      "provenance": [],
      "authorship_tag": "ABX9TyM+QH28MoQshwiABKs8ARMm",
      "include_colab_link": true
    },
    "kernelspec": {
      "name": "python3",
      "display_name": "Python 3"
    },
    "language_info": {
      "name": "python"
    }
  },
  "cells": [
    {
      "cell_type": "markdown",
      "metadata": {
        "id": "view-in-github",
        "colab_type": "text"
      },
      "source": [
        "<a href=\"https://colab.research.google.com/github/kevincarrasco/AI-Projects/blob/Image_Classifiers/Computer_Vision_automatic_learning.ipynb\" target=\"_parent\"><img src=\"https://colab.research.google.com/assets/colab-badge.svg\" alt=\"Open In Colab\"/></a>"
      ]
    },
    {
      "cell_type": "markdown",
      "source": [
        "Computer vision"
      ],
      "metadata": {
        "id": "Fevz_5oR_O4N"
      }
    },
    {
      "cell_type": "code",
      "source": [
        "import tensorflow as tf\n",
        "from tensorflow import keras"
      ],
      "metadata": {
        "id": "vW5XpwTz_Q2i"
      },
      "execution_count": 1,
      "outputs": []
    },
    {
      "cell_type": "code",
      "source": [
        "fashion_mnist = keras.datasets.fashion_mnist"
      ],
      "metadata": {
        "id": "ZXLh3nZfQbi0"
      },
      "execution_count": 2,
      "outputs": []
    },
    {
      "cell_type": "code",
      "source": [
        "(train_images, train_labels),(test_images,test_labels) = fashion_mnist.load_data()\n",
        "#train images set 60,000 images\n",
        "#10 thousand set of images to verify how the model performs\n",
        "#label indicates the class type of clothing with a number\n",
        "#it uses a number to avoid bias, facilitate the use in different languages and computers deal better with numbers\n",
        "\n"
      ],
      "metadata": {
        "id": "4h-YhpneQblc",
        "colab": {
          "base_uri": "https://localhost:8080/"
        },
        "outputId": "b135e3b1-46b4-4c52-9406-9bf5893d1f09"
      },
      "execution_count": 3,
      "outputs": [
        {
          "output_type": "stream",
          "name": "stdout",
          "text": [
            "Downloading data from https://storage.googleapis.com/tensorflow/tf-keras-datasets/train-labels-idx1-ubyte.gz\n",
            "\u001b[1m29515/29515\u001b[0m \u001b[32m━━━━━━━━━━━━━━━━━━━━\u001b[0m\u001b[37m\u001b[0m \u001b[1m0s\u001b[0m 0us/step\n",
            "Downloading data from https://storage.googleapis.com/tensorflow/tf-keras-datasets/train-images-idx3-ubyte.gz\n",
            "\u001b[1m26421880/26421880\u001b[0m \u001b[32m━━━━━━━━━━━━━━━━━━━━\u001b[0m\u001b[37m\u001b[0m \u001b[1m0s\u001b[0m 0us/step\n",
            "Downloading data from https://storage.googleapis.com/tensorflow/tf-keras-datasets/t10k-labels-idx1-ubyte.gz\n",
            "\u001b[1m5148/5148\u001b[0m \u001b[32m━━━━━━━━━━━━━━━━━━━━\u001b[0m\u001b[37m\u001b[0m \u001b[1m0s\u001b[0m 0us/step\n",
            "Downloading data from https://storage.googleapis.com/tensorflow/tf-keras-datasets/t10k-images-idx3-ubyte.gz\n",
            "\u001b[1m4422102/4422102\u001b[0m \u001b[32m━━━━━━━━━━━━━━━━━━━━\u001b[0m\u001b[37m\u001b[0m \u001b[1m0s\u001b[0m 0us/step\n"
          ]
        }
      ]
    },
    {
      "cell_type": "code",
      "source": [
        "model = keras.Sequential([\n",
        "    keras.layers.Flatten(input_shape=(28,28)),#input shape 28 by 28 represent the size of an image\n",
        "    keras.layers.Dense(128, activation=tf.nn.relu),\n",
        "    keras.layers.Dense(10,activation=tf.nn.softmax)# output layer, last layer is 10 represent the number of items of clothing in the Dataset\n",
        "\n",
        "])\n",
        "\n",
        "#The NN will act like filter which will 28 by 28 set of pixels and will output 1 out of 10 values\n",
        "#128 represent the number of functions with parameters inside\n",
        "#when the pixel of the image are feded one by one the combination of all the functions will output the correct value\n",
        "#The computer will need to get the parameters in each function to get a result\n",
        "#It will extend to the rest of the items and once it's done it must be able to reconize items\n",
        "#Activation functions\n",
        "#relu located on the line of 128 activation functions\n",
        "#RELU Rectified linear unit\n",
        "#RELU returns a value if it's rgeater than 0\n",
        "#Softmax picks the biggest number in a set\n",
        "#Softmax in the ouput every item has a probability of been the item\n",
        "# Softmax sets the biggest as 1 and set the rest to 0 to facilitate the identification\n",
        "#\n"
      ],
      "metadata": {
        "id": "EBFhgmfaQbnx",
        "colab": {
          "base_uri": "https://localhost:8080/"
        },
        "outputId": "f7d529c1-2cc8-4b3b-e159-0c667a4b03d6"
      },
      "execution_count": 4,
      "outputs": [
        {
          "output_type": "stream",
          "name": "stderr",
          "text": [
            "/usr/local/lib/python3.11/dist-packages/keras/src/layers/reshaping/flatten.py:37: UserWarning: Do not pass an `input_shape`/`input_dim` argument to a layer. When using Sequential models, prefer using an `Input(shape)` object as the first layer in the model instead.\n",
            "  super().__init__(**kwargs)\n"
          ]
        }
      ]
    },
    {
      "cell_type": "code",
      "source": [
        "model.compile(optimizer=tf.keras.optimizers.Adam(),\n",
        "             loss='sparse_categorical_crossentropy',\n",
        "             metrics=['accuracy'])\n",
        "#The neural networ will be initialized with random values\n",
        "#The loss funtion will measure how good or bad the results were\n",
        "#The optimizer will generate new parameters for the functions to see if it can improve\n"
      ],
      "metadata": {
        "id": "_HExWF9ZQ8Sc"
      },
      "execution_count": 5,
      "outputs": []
    },
    {
      "cell_type": "code",
      "source": [
        "###Training of the model\n",
        "\n",
        "model.fit(train_images,train_labels,epochs=5)\n",
        "#The Test_images and test_labels can be used to check the perfomance as the model hasn't seen the images\n",
        "#We can pass those images and lables to the evaluate method\n",
        "test_loss, test_acc = model.evaluate(test_images, test_labels)\n"
      ],
      "metadata": {
        "colab": {
          "base_uri": "https://localhost:8080/"
        },
        "id": "jpDlulWIQ8V5",
        "outputId": "27121dc2-a335-4b0d-f6c2-df1023caf2c9"
      },
      "execution_count": 6,
      "outputs": [
        {
          "output_type": "stream",
          "name": "stdout",
          "text": [
            "Epoch 1/5\n",
            "\u001b[1m1875/1875\u001b[0m \u001b[32m━━━━━━━━━━━━━━━━━━━━\u001b[0m\u001b[37m\u001b[0m \u001b[1m13s\u001b[0m 6ms/step - accuracy: 0.6485 - loss: 9.8830\n",
            "Epoch 2/5\n",
            "\u001b[1m1875/1875\u001b[0m \u001b[32m━━━━━━━━━━━━━━━━━━━━\u001b[0m\u001b[37m\u001b[0m \u001b[1m15s\u001b[0m 4ms/step - accuracy: 0.7540 - loss: 0.7046\n",
            "Epoch 3/5\n",
            "\u001b[1m1875/1875\u001b[0m \u001b[32m━━━━━━━━━━━━━━━━━━━━\u001b[0m\u001b[37m\u001b[0m \u001b[1m8s\u001b[0m 4ms/step - accuracy: 0.7960 - loss: 0.5947\n",
            "Epoch 4/5\n",
            "\u001b[1m1875/1875\u001b[0m \u001b[32m━━━━━━━━━━━━━━━━━━━━\u001b[0m\u001b[37m\u001b[0m \u001b[1m10s\u001b[0m 4ms/step - accuracy: 0.8100 - loss: 0.5513\n",
            "Epoch 5/5\n",
            "\u001b[1m1875/1875\u001b[0m \u001b[32m━━━━━━━━━━━━━━━━━━━━\u001b[0m\u001b[37m\u001b[0m \u001b[1m8s\u001b[0m 4ms/step - accuracy: 0.8287 - loss: 0.5029\n",
            "\u001b[1m313/313\u001b[0m \u001b[32m━━━━━━━━━━━━━━━━━━━━\u001b[0m\u001b[37m\u001b[0m \u001b[1m1s\u001b[0m 4ms/step - accuracy: 0.8227 - loss: 0.5604\n"
          ]
        }
      ]
    },
    {
      "cell_type": "code",
      "source": [
        "###to get predictions\n",
        "#predictions = model.predict(my_images)\n",
        "#my_images is a personal dataset not previously loaded."
      ],
      "metadata": {
        "id": "G9jQ8NK_bfFF"
      },
      "execution_count": 7,
      "outputs": []
    }
  ]
}